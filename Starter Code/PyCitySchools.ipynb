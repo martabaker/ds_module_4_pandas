{
 "cells": [
  {
   "cell_type": "markdown",
   "id": "917821db-5930-4bd2-b6da-35e2216e6905",
   "metadata": {},
   "source": [
    "# Initial Setup: Import Pandas and CSV"
   ]
  },
  {
   "cell_type": "code",
   "execution_count": 1,
   "id": "523fb131-776f-4b92-b5b5-6a4fe6c6fbcc",
   "metadata": {},
   "outputs": [],
   "source": [
    "# Import Pandas\n",
    "import pandas as pd"
   ]
  },
  {
   "cell_type": "code",
   "execution_count": 5,
   "id": "e3359bfd-ce5b-4e2d-84f1-31c165b8a746",
   "metadata": {},
   "outputs": [],
   "source": [
    "# Path for the 2 CSV files\n",
    "student_file = \"Resources/students_complete.csv\"\n",
    "school_file = \"Resources/schools_complete.csv\""
   ]
  },
  {
   "cell_type": "code",
   "execution_count": 9,
   "id": "051eb817-0013-466f-8640-420350616a0d",
   "metadata": {},
   "outputs": [
    {
     "data": {
      "text/html": [
       "<div>\n",
       "<style scoped>\n",
       "    .dataframe tbody tr th:only-of-type {\n",
       "        vertical-align: middle;\n",
       "    }\n",
       "\n",
       "    .dataframe tbody tr th {\n",
       "        vertical-align: top;\n",
       "    }\n",
       "\n",
       "    .dataframe thead th {\n",
       "        text-align: right;\n",
       "    }\n",
       "</style>\n",
       "<table border=\"1\" class=\"dataframe\">\n",
       "  <thead>\n",
       "    <tr style=\"text-align: right;\">\n",
       "      <th></th>\n",
       "      <th>Student ID</th>\n",
       "      <th>student_name</th>\n",
       "      <th>gender</th>\n",
       "      <th>grade</th>\n",
       "      <th>school_name</th>\n",
       "      <th>reading_score</th>\n",
       "      <th>math_score</th>\n",
       "      <th>School ID</th>\n",
       "      <th>type</th>\n",
       "      <th>size</th>\n",
       "      <th>budget</th>\n",
       "    </tr>\n",
       "  </thead>\n",
       "  <tbody>\n",
       "    <tr>\n",
       "      <th>0</th>\n",
       "      <td>0</td>\n",
       "      <td>Paul Bradley</td>\n",
       "      <td>M</td>\n",
       "      <td>9th</td>\n",
       "      <td>Huang High School</td>\n",
       "      <td>66</td>\n",
       "      <td>79</td>\n",
       "      <td>0</td>\n",
       "      <td>District</td>\n",
       "      <td>2917</td>\n",
       "      <td>1910635</td>\n",
       "    </tr>\n",
       "    <tr>\n",
       "      <th>1</th>\n",
       "      <td>1</td>\n",
       "      <td>Victor Smith</td>\n",
       "      <td>M</td>\n",
       "      <td>12th</td>\n",
       "      <td>Huang High School</td>\n",
       "      <td>94</td>\n",
       "      <td>61</td>\n",
       "      <td>0</td>\n",
       "      <td>District</td>\n",
       "      <td>2917</td>\n",
       "      <td>1910635</td>\n",
       "    </tr>\n",
       "    <tr>\n",
       "      <th>2</th>\n",
       "      <td>2</td>\n",
       "      <td>Kevin Rodriguez</td>\n",
       "      <td>M</td>\n",
       "      <td>12th</td>\n",
       "      <td>Huang High School</td>\n",
       "      <td>90</td>\n",
       "      <td>60</td>\n",
       "      <td>0</td>\n",
       "      <td>District</td>\n",
       "      <td>2917</td>\n",
       "      <td>1910635</td>\n",
       "    </tr>\n",
       "    <tr>\n",
       "      <th>3</th>\n",
       "      <td>3</td>\n",
       "      <td>Dr. Richard Scott</td>\n",
       "      <td>M</td>\n",
       "      <td>12th</td>\n",
       "      <td>Huang High School</td>\n",
       "      <td>67</td>\n",
       "      <td>58</td>\n",
       "      <td>0</td>\n",
       "      <td>District</td>\n",
       "      <td>2917</td>\n",
       "      <td>1910635</td>\n",
       "    </tr>\n",
       "    <tr>\n",
       "      <th>4</th>\n",
       "      <td>4</td>\n",
       "      <td>Bonnie Ray</td>\n",
       "      <td>F</td>\n",
       "      <td>9th</td>\n",
       "      <td>Huang High School</td>\n",
       "      <td>97</td>\n",
       "      <td>84</td>\n",
       "      <td>0</td>\n",
       "      <td>District</td>\n",
       "      <td>2917</td>\n",
       "      <td>1910635</td>\n",
       "    </tr>\n",
       "  </tbody>\n",
       "</table>\n",
       "</div>"
      ],
      "text/plain": [
       "   Student ID       student_name gender grade        school_name  \\\n",
       "0           0       Paul Bradley      M   9th  Huang High School   \n",
       "1           1       Victor Smith      M  12th  Huang High School   \n",
       "2           2    Kevin Rodriguez      M  12th  Huang High School   \n",
       "3           3  Dr. Richard Scott      M  12th  Huang High School   \n",
       "4           4         Bonnie Ray      F   9th  Huang High School   \n",
       "\n",
       "   reading_score  math_score  School ID      type  size   budget  \n",
       "0             66          79          0  District  2917  1910635  \n",
       "1             94          61          0  District  2917  1910635  \n",
       "2             90          60          0  District  2917  1910635  \n",
       "3             67          58          0  District  2917  1910635  \n",
       "4             97          84          0  District  2917  1910635  "
      ]
     },
     "metadata": {},
     "output_type": "display_data"
    },
    {
     "name": "stdout",
     "output_type": "stream",
     "text": [
      "(39170, 11)\n",
      "<class 'pandas.core.frame.DataFrame'>\n",
      "RangeIndex: 39170 entries, 0 to 39169\n",
      "Data columns (total 11 columns):\n",
      " #   Column         Non-Null Count  Dtype \n",
      "---  ------         --------------  ----- \n",
      " 0   Student ID     39170 non-null  int64 \n",
      " 1   student_name   39170 non-null  object\n",
      " 2   gender         39170 non-null  object\n",
      " 3   grade          39170 non-null  object\n",
      " 4   school_name    39170 non-null  object\n",
      " 5   reading_score  39170 non-null  int64 \n",
      " 6   math_score     39170 non-null  int64 \n",
      " 7   School ID      39170 non-null  int64 \n",
      " 8   type           39170 non-null  object\n",
      " 9   size           39170 non-null  int64 \n",
      " 10  budget         39170 non-null  int64 \n",
      "dtypes: int64(6), object(5)\n",
      "memory usage: 3.3+ MB\n"
     ]
    }
   ],
   "source": [
    "# Read both CSVs in\n",
    "student_df = pd.read_csv(student_file)\n",
    "school_df = pd.read_csv(school_file)\n",
    "\n",
    "# Merge the CSVs into 1 dataset\n",
    "comb_df = pd.merge(student_df, school_df, on=\"school_name\", how=\"left\")\n",
    "\n",
    "# Head, Shape. Info\n",
    "display(comb_df.head())\n",
    "print(comb_df.shape)\n",
    "comb_df.info()"
   ]
  },
  {
   "cell_type": "code",
   "execution_count": 10,
   "id": "73b3852f-9a74-4665-a38d-639b0031e38f",
   "metadata": {},
   "outputs": [
    {
     "name": "stdout",
     "output_type": "stream",
     "text": [
      "<class 'pandas.core.frame.DataFrame'>\n",
      "RangeIndex: 39170 entries, 0 to 39169\n",
      "Data columns (total 11 columns):\n",
      " #   Column         Non-Null Count  Dtype \n",
      "---  ------         --------------  ----- \n",
      " 0   student_id     39170 non-null  int64 \n",
      " 1   student_name   39170 non-null  object\n",
      " 2   gender         39170 non-null  object\n",
      " 3   grade          39170 non-null  object\n",
      " 4   school_name    39170 non-null  object\n",
      " 5   reading_score  39170 non-null  int64 \n",
      " 6   math_score     39170 non-null  int64 \n",
      " 7   school_id      39170 non-null  int64 \n",
      " 8   type           39170 non-null  object\n",
      " 9   size           39170 non-null  int64 \n",
      " 10  budget         39170 non-null  int64 \n",
      "dtypes: int64(6), object(5)\n",
      "memory usage: 3.3+ MB\n"
     ]
    }
   ],
   "source": [
    "# Make all the column names easily readable\n",
    "comb_df.columns = [x.lower().replace(\" \", \"_\") for x in comb_df.columns]\n",
    "\n",
    "comb_df.info()"
   ]
  },
  {
   "cell_type": "markdown",
   "id": "416a9d65-601c-4c4c-864d-0a185a9f179b",
   "metadata": {},
   "source": [
    "# District Summary"
   ]
  },
  {
   "cell_type": "code",
   "execution_count": 12,
   "id": "5af90852-9e8b-43a9-ad89-c3f9d8568c98",
   "metadata": {},
   "outputs": [
    {
     "data": {
      "text/plain": [
       "15"
      ]
     },
     "execution_count": 12,
     "metadata": {},
     "output_type": "execute_result"
    }
   ],
   "source": [
    "# Total Number of unique schools; nunique schools\n",
    "school_count = comb_df.school_name.nunique()\n",
    "school_count"
   ]
  },
  {
   "cell_type": "code",
   "execution_count": 14,
   "id": "894bdc80-2c08-4fe6-8aa8-e531bfb8991a",
   "metadata": {},
   "outputs": [
    {
     "data": {
      "text/plain": [
       "39170"
      ]
     },
     "execution_count": 14,
     "metadata": {},
     "output_type": "execute_result"
    }
   ],
   "source": [
    "# Total Students; count of student_id\n",
    "student_count = comb_df.student_id.count()\n",
    "student_count"
   ]
  },
  {
   "cell_type": "code",
   "execution_count": 17,
   "id": "b6ef1868-3137-4745-9aad-3f1643ce9724",
   "metadata": {},
   "outputs": [
    {
     "data": {
      "text/plain": [
       "24649428"
      ]
     },
     "execution_count": 17,
     "metadata": {},
     "output_type": "execute_result"
    }
   ],
   "source": [
    "# Total Budget\n",
    "# Found the unique values and then summed them\n",
    "total_budget = comb_df.budget.unique().sum()\n",
    "total_budget"
   ]
  },
  {
   "cell_type": "code",
   "execution_count": null,
   "id": "a62583c9-f48e-49f0-83aa-264aa385e9ed",
   "metadata": {},
   "outputs": [],
   "source": [
    "# Average Math Score; Math Score/Total Students\n",
    "average_math = \n",
    "average_math"
   ]
  },
  {
   "cell_type": "code",
   "execution_count": null,
   "id": "d83427e8-4c13-4578-9d10-ea0bd82cdb83",
   "metadata": {},
   "outputs": [],
   "source": [
    "# Average Reading Score"
   ]
  },
  {
   "cell_type": "code",
   "execution_count": null,
   "id": "2ce7abea-ffe6-4776-ab74-30267f0f2ba3",
   "metadata": {},
   "outputs": [],
   "source": [
    "# % Passing Math (# Students with a score >= 70 in math/total students)\n",
    "math_filt = \n",
    "perc_pass_math"
   ]
  },
  {
   "cell_type": "code",
   "execution_count": null,
   "id": "13f3f3b9-4530-469c-ae13-5ada8ddc3fda",
   "metadata": {},
   "outputs": [],
   "source": [
    "# % Passing Reading (Same logic as % Passing Math)\n"
   ]
  },
  {
   "cell_type": "code",
   "execution_count": null,
   "id": "d9662b43-cab1-41a3-b05d-1fb499674093",
   "metadata": {},
   "outputs": [],
   "source": [
    "# % Passing BOTH Math and Reading (Filt need an \"&\" for the Math passing and reading passing filt)"
   ]
  },
  {
   "cell_type": "code",
   "execution_count": null,
   "id": "2da14afd-4612-4aa1-a741-2404ef375538",
   "metadata": {},
   "outputs": [],
   "source": [
    "# Create the new DataFrame with all the value"
   ]
  },
  {
   "cell_type": "markdown",
   "id": "c54eaf8c-4310-486e-9e79-aeca0ffe50f0",
   "metadata": {},
   "source": [
    "# School Summary"
   ]
  },
  {
   "cell_type": "code",
   "execution_count": null,
   "id": "907661b5-16e9-4c0b-9183-6699f74b5577",
   "metadata": {},
   "outputs": [],
   "source": [
    "# School names"
   ]
  },
  {
   "cell_type": "code",
   "execution_count": null,
   "id": "e868a024-c136-4260-bb44-eb3743085553",
   "metadata": {},
   "outputs": [],
   "source": [
    "# School types per school"
   ]
  },
  {
   "cell_type": "code",
   "execution_count": null,
   "id": "2f28387e-aa72-4f13-b7ef-779ec02458c8",
   "metadata": {},
   "outputs": [],
   "source": [
    "# Total Students per school"
   ]
  },
  {
   "cell_type": "code",
   "execution_count": null,
   "id": "1ef852b2-e242-4dae-bfa5-e0bb56e00aa2",
   "metadata": {},
   "outputs": [],
   "source": [
    "# Total School Budget per school"
   ]
  },
  {
   "cell_type": "code",
   "execution_count": null,
   "id": "f5f894c0-0bb3-4884-9381-bf74b3dc800f",
   "metadata": {},
   "outputs": [],
   "source": [
    "# Per Student Budget per school"
   ]
  },
  {
   "cell_type": "code",
   "execution_count": null,
   "id": "27d7784d-250c-4b3a-9a9d-6187c0b13184",
   "metadata": {},
   "outputs": [],
   "source": [
    "# Average Math Score per school"
   ]
  },
  {
   "cell_type": "code",
   "execution_count": null,
   "id": "af40cc69-6e8d-4e7c-8b37-6f243193b1ea",
   "metadata": {},
   "outputs": [],
   "source": [
    "# Average Reading Score per school"
   ]
  },
  {
   "cell_type": "code",
   "execution_count": null,
   "id": "39a6917b-3e85-4866-84f6-d07ea1cf6c42",
   "metadata": {},
   "outputs": [],
   "source": [
    "# % Passing Math per school (# Students with a score >= 70 in math/total students)\n",
    "math_filt2 = \n",
    "perc_pass_math"
   ]
  },
  {
   "cell_type": "code",
   "execution_count": null,
   "id": "37a656df-cda3-4187-9039-f5bfdd04eba8",
   "metadata": {},
   "outputs": [],
   "source": [
    "# % Passing Reading per school (Same logic as % Passing Math)\n"
   ]
  },
  {
   "cell_type": "code",
   "execution_count": null,
   "id": "9238f421-5fa8-4a10-92c0-be164e32d830",
   "metadata": {},
   "outputs": [],
   "source": [
    "# % Passing BOTH Math and Reading per school (Filt need an \"&\" for the Math passing and reading passing filt)"
   ]
  },
  {
   "cell_type": "code",
   "execution_count": null,
   "id": "77c304e6-8639-480b-ae58-6bb30775a748",
   "metadata": {},
   "outputs": [],
   "source": [
    "# Create the new DataFrame with all the value"
   ]
  },
  {
   "cell_type": "markdown",
   "id": "97d1e0fb-9969-4a95-adf0-24cbbff77a3e",
   "metadata": {},
   "source": [
    "# Highest-Performing Schools (by % Overall Passing)"
   ]
  },
  {
   "cell_type": "code",
   "execution_count": null,
   "id": "c8785b7c-60d9-4093-93ac-63fd5abfb673",
   "metadata": {},
   "outputs": [],
   "source": [
    "# Sort Schools by % Overall Passing and display top 5 schools (ascending=False).head()\n",
    "\n",
    "# Save Results in new DataFrame: top_schools"
   ]
  },
  {
   "cell_type": "markdown",
   "id": "5465a925-4ed9-48fe-bc8b-72d18b0485d0",
   "metadata": {},
   "source": [
    "# Lowest-Performing Schools (by % Overall Passing)"
   ]
  },
  {
   "cell_type": "code",
   "execution_count": null,
   "id": "d81903a5-e094-47ba-beaf-453913677e40",
   "metadata": {},
   "outputs": [],
   "source": [
    "# Sort Schools by % Overall Passing and display bottom 5 schools (ascending=True).head()\n",
    "\n",
    "# Save Results in new DataFrame: bottom_schools"
   ]
  },
  {
   "cell_type": "markdown",
   "id": "67db11e4-8fff-493e-a8c6-8b9b9efa521b",
   "metadata": {},
   "source": [
    "# Math Scores by Grade"
   ]
  },
  {
   "cell_type": "code",
   "execution_count": null,
   "id": "2e7f2f9f-2a4c-439a-87cb-d7e8ba9bbef7",
   "metadata": {},
   "outputs": [],
   "source": [
    "# Create DataFrame for average math scores for students in each grade at each school"
   ]
  },
  {
   "cell_type": "markdown",
   "id": "e3a474a7-2159-49de-97b2-98451feaaa00",
   "metadata": {},
   "source": [
    "# Reading Scores by Grade"
   ]
  },
  {
   "cell_type": "code",
   "execution_count": null,
   "id": "fbd88f7a-9abd-4181-9af6-aac1a84a75d8",
   "metadata": {},
   "outputs": [],
   "source": [
    "# Create DataFrame for average math scores for students in each grade at each school"
   ]
  },
  {
   "cell_type": "markdown",
   "id": "1b343ad5-d362-4499-8eee-8b0e003b1ae5",
   "metadata": {},
   "source": [
    "# Scores by School Spending"
   ]
  },
  {
   "cell_type": "code",
   "execution_count": null,
   "id": "6892e5bb-a390-4498-afdc-e4c2e5c20dbb",
   "metadata": {},
   "outputs": [],
   "source": []
  },
  {
   "cell_type": "code",
   "execution_count": null,
   "id": "39253378-bcfc-43cc-b0f1-d974c310da39",
   "metadata": {},
   "outputs": [],
   "source": []
  }
 ],
 "metadata": {
  "kernelspec": {
   "display_name": "Python 3 (ipykernel)",
   "language": "python",
   "name": "python3"
  },
  "language_info": {
   "codemirror_mode": {
    "name": "ipython",
    "version": 3
   },
   "file_extension": ".py",
   "mimetype": "text/x-python",
   "name": "python",
   "nbconvert_exporter": "python",
   "pygments_lexer": "ipython3",
   "version": "3.10.13"
  }
 },
 "nbformat": 4,
 "nbformat_minor": 5
}
